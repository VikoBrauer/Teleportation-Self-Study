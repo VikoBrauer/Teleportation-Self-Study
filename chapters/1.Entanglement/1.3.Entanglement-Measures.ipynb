{
 "cells": [
  {
   "cell_type": "markdown",
   "id": "1ddc3483",
   "metadata": {},
   "source": [
    "\n",
    "<table width = \"100%\">\n",
    "  <tr style=\"background-color:white;\">\n",
    "    <td style=\"text-align:right;vertical-align:bottom;font-size:12px;\"> \n",
    "        Prepared by  <a href=\"https://www.linkedin.com/in/victor-brauer-quantum/\" target=\"_blank\"> Víctor H. T. Brauer </a> (México)</td>\n",
    "    </tr>\n",
    "    <tr><td align=\"right\" style=\"color:#bbbbbb;background-color:#ffffff;font-size:11px;font-style:italic;\">\n",
    "        This cell contains some macros. If there is a problem with displaying mathematical formulas, please run this cell to load these macros.\n",
    "    </td></tr>\n",
    " </table>\n",
    " \n",
    "$ \\newcommand{\\bra}[1]{\\langle #1|} $\n",
    "$ \\newcommand{\\ket}[1]{|#1\\rangle} $\n",
    "$ \\newcommand{\\braket}[2]{\\langle #1|#2\\rangle} $\n",
    "$ \\newcommand{\\dot}[2]{ #1 \\cdot #2} $\n",
    "$ \\newcommand{\\biginner}[2]{\\left\\langle #1,#2\\right\\rangle} $\n",
    "$ \\newcommand{\\mymatrix}[2]{\\left( \\begin{array}{#1} #2\\end{array} \\right)} $\n",
    "$ \\newcommand{\\myvector}[1]{\\mymatrix{c}{#1}} $\n",
    "$ \\newcommand{\\myrvector}[1]{\\mymatrix{r}{#1}} $\n",
    "$ \\newcommand{\\mypar}[1]{\\left( #1 \\right)} $\n",
    "$ \\newcommand{\\mybigpar}[1]{ \\Big( #1 \\Big)} $\n",
    "$ \\newcommand{\\sqrttwo}{\\frac{1}{\\sqrt{2}}} $\n",
    "$ \\newcommand{\\dsqrttwo}{\\dfrac{1}{\\sqrt{2}}} $\n",
    "$ \\newcommand{\\onehalf}{\\frac{1}{2}} $\n",
    "$ \\newcommand{\\donehalf}{\\dfrac{1}{2}} $\n",
    "$ \\newcommand{\\hadamard}{ \\mymatrix{rr}{ \\sqrttwo & \\sqrttwo \\\\ \\sqrttwo & -\\sqrttwo }} $\n",
    "$ \\newcommand{\\vzero}{\\myvector{1\\\\0}} $\n",
    "$ \\newcommand{\\vone}{\\myvector{0\\\\1}} $\n",
    "$ \\newcommand{\\vhadamardzero}{\\myvector{ \\sqrttwo \\\\  \\sqrttwo } } $\n",
    "$ \\newcommand{\\vhadamardone}{ \\myrvector{ \\sqrttwo \\\\ -\\sqrttwo } } $\n",
    "$ \\newcommand{\\myarray}[2]{ \\begin{array}{#1}#2\\end{array}} $\n",
    "$ \\newcommand{\\X}{ \\mymatrix{cc}{0 & 1 \\\\ 1 & 0}  } $\n",
    "$ \\newcommand{\\Z}{ \\mymatrix{rr}{1 & 0 \\\\ 0 & -1}  } $\n",
    "$ \\newcommand{\\Htwo}{ \\mymatrix{rrrr}{ \\frac{1}{2} & \\frac{1}{2} & \\frac{1}{2} & \\frac{1}{2} \\\\ \\frac{1}{2} & -\\frac{1}{2} & \\frac{1}{2} & -\\frac{1}{2} \\\\ \\frac{1}{2} & \\frac{1}{2} & -\\frac{1}{2} & -\\frac{1}{2} \\\\ \\frac{1}{2} & -\\frac{1}{2} & -\\frac{1}{2} & \\frac{1}{2} } } $\n",
    "$ \\newcommand{\\CNOT}{ \\mymatrix{cccc}{1 & 0 & 0 & 0 \\\\ 0 & 1 & 0 & 0 \\\\ 0 & 0 & 0 & 1 \\\\ 0 & 0 & 1 & 0} } $\n",
    "$ \\newcommand{\\norm}[1]{ \\left\\lVert #1 \\right\\rVert } $\n",
    "\n",
    " ---"
   ]
  },
  {
   "cell_type": "markdown",
   "id": "339c54b8",
   "metadata": {},
   "source": [
    "<h1>Entangled Measures</h1>\n",
    "\n",
    "We already know how to recognize entangled states from separable states. But now let's dig into it, since it is not enough to ask if a given state is entangled or not, we also want to quantify its entanglement. From this purpose several measures of entanglement have been proposed, the best accepted measures share a set of properties that are worth mentioning. Let's take a quick look at the word of the $\\textit{Entanglement Monotones}$.\n",
    "\n",
    "The entanglement monotones are entanglement measures that acomplish the next three propierties:\n",
    "\n",
    "1. Any entanglement measure $\\mathcal{E}$ is a function that takes a quantum state on the form of a density matrix $\\rho$ and maps it to a real no negative number.\n",
    "\\begin{equation}\n",
    "\\rho \\rightarrow \\mathcal{E}(\\rho) \\in \\mathbb{R}_{\\geq0}\n",
    "\\end{equation}\n",
    "\n",
    "2. The separable states have no entanglement. So every entanglement measure must map separable state to the number zero. i.e. $\\mathcal{E}(\\rho_{separable})=0$. \n",
    "\n",
    "3. The entanglement does not grow under Local Operations and Classical Communication (LOCC). Given a density matrix $\\rho$ and a map $R_{LOCC}$ (that maps density matrices into density matrices) built by LOCC then \n",
    "\\begin{equation}\n",
    "\\mathcal{E}(\\rho) \\geq \\mathcal{E}(R_{LOCC}(\\rho)) \n",
    "\\end{equation}\n",
    "\n"
   ]
  },
  {
   "cell_type": "markdown",
   "id": "a8aebd02",
   "metadata": {},
   "source": [
    "### LOCC\n",
    "\n",
    "Let's talk a little more about this weird term LOCC. \n",
    "\n",
    "Let's conssider a pair of qubits $A$ and $B$ in a state $\\ket{\\psi}_{AB}$, the $A$ qubit is in Alice lab while the $B$ qubit is on Bob's lab.  Local Operations and Classical Communication reffers to all possible operations that can be done by Alice and Bob into they respective qubits, while communicatin (for example some measure of ancillary qubits).  "
   ]
  },
  {
   "cell_type": "code",
   "execution_count": null,
   "id": "5f1859b2",
   "metadata": {},
   "outputs": [],
   "source": []
  }
 ],
 "metadata": {
  "kernelspec": {
   "display_name": "Python 3 (ipykernel)",
   "language": "python",
   "name": "python3"
  },
  "language_info": {
   "codemirror_mode": {
    "name": "ipython",
    "version": 3
   },
   "file_extension": ".py",
   "mimetype": "text/x-python",
   "name": "python",
   "nbconvert_exporter": "python",
   "pygments_lexer": "ipython3",
   "version": "3.11.4"
  }
 },
 "nbformat": 4,
 "nbformat_minor": 5
}
