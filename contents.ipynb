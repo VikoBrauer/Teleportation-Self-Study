{
 "cells": [
  {
   "cell_type": "markdown",
   "id": "8ea9aaca",
   "metadata": {},
   "source": [
    "## Table of Contents\n",
    "\n",
    "This material started as part of the [Womanium Quantum Global Project](https://womanium.org/) by Víctor H. T. Brauer. \n",
    "\n",
    "\n",
    "\n",
    "### 1. Quantum Entanglement \n",
    "\n",
    "[1.1 Entangled States](chapters/1.Entanglement/1.1.Entangled-States.ipynb) (95%)\n",
    "\n",
    "[1.2 Density Matrix](chapters/1.Entanglement/1.2.Density-Matrix.ipynb) (0%)\n",
    "\n",
    "[1.3 Entanglement Measures](chapters/1.Entanglement/1.3.Entanglement-Measures.ipynb) (35%)\n",
    "\n",
    "\n",
    "### 2. Quantum Teleportation\n",
    "\n",
    "[2.1 Standard Teleportation Protocol](chapters/2.Quantum-Teleportation/2.1.STP.ipynb) (0%)\n",
    "\n",
    "[2.2 Probabilistic Teleportation](chapters/overview/whatandwhy.ipynb) (0%)\n",
    "\n",
    "[2.3 Teleportation Fidelity](chapters/overview/whatandwhy.ipynb) (0%)\n",
    "\n",
    "\n",
    "### 3. Entanglement Swapping\n",
    "\n",
    "\n",
    "\n",
    "### 4. Teleportation of Entanglement\n",
    "\n",
    "\n",
    "\n",
    "\n"
   ]
  },
  {
   "cell_type": "code",
   "execution_count": null,
   "id": "73340dc0-a07e-4be0-9feb-1c2e0555dc38",
   "metadata": {},
   "outputs": [],
   "source": []
  }
 ],
 "metadata": {
  "kernelspec": {
   "display_name": "Python 3 (ipykernel)",
   "language": "python",
   "name": "python3"
  },
  "language_info": {
   "codemirror_mode": {
    "name": "ipython",
    "version": 3
   },
   "file_extension": ".py",
   "mimetype": "text/x-python",
   "name": "python",
   "nbconvert_exporter": "python",
   "pygments_lexer": "ipython3",
   "version": "3.11.4"
  }
 },
 "nbformat": 4,
 "nbformat_minor": 5
}
